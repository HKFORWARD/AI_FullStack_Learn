{
 "cells": [
  {
   "cell_type": "markdown",
   "id": "20549885",
   "metadata": {},
   "source": [
    "# 使用 Milvus 和 DeepSeek 构建 RAG\n",
    "\n",
    "DeepSeek 帮助开发者使用高性能语言模型构建和扩展 AI 应用。它提供高效的推理、灵活的 API 以及先进的专家混合 (MoE) 架构，用于强大的推理和检索任务。\n",
    "\n",
    "在本教程中，我们将展示如何使用 Milvus 和 DeepSeek 构建一个检索增强生成 (RAG) 管道。"
   ]
  },
  {
   "cell_type": "markdown",
   "id": "7394c701",
   "metadata": {},
   "source": [
    "## 准备工作"
   ]
  },
  {
   "cell_type": "markdown",
   "id": "89103a1e",
   "metadata": {},
   "source": [
    "### 依赖与环境"
   ]
  },
  {
   "cell_type": "code",
   "execution_count": 1,
   "id": "9c18d7b4",
   "metadata": {},
   "outputs": [],
   "source": [
    "# !pip install \"pymilvus[model]==2.5.10\" openai==1.82.0 requests==2.32.3 tqdm==4.67.1 torch==2.7.0"
   ]
  },
  {
   "cell_type": "markdown",
   "id": "1b3c0999-d670-41a9-afbd-d8a020fe1631",
   "metadata": {},
   "source": [
    "---"
   ]
  },
  {
   "cell_type": "code",
   "execution_count": 2,
   "id": "375ad823",
   "metadata": {},
   "outputs": [],
   "source": [
    "import os\n",
    "\n",
    "# 从环境变量获取 DeepSeek API Key\n",
    "api_key = os.getenv(\"DEEPSEEK_API_KEY\")"
   ]
  },
  {
   "cell_type": "markdown",
   "id": "db44bb26",
   "metadata": {},
   "source": [
    "### 准备数据"
   ]
  },
  {
   "cell_type": "markdown",
   "id": "25f92a95",
   "metadata": {},
   "source": [
    "我们使用 Milvus 文档 2.4.x 中的 FAQ 页面作为我们 RAG 中的私有知识库，这是一个简单 RAG 管道的良好数据源。"
   ]
  },
  {
   "cell_type": "markdown",
   "id": "a1a8b9e2",
   "metadata": {},
   "source": [
    "下载 zip 文件并将文档解压到 `milvus_docs` 文件夹。\n",
    "\n",
    "**建议在命令行执行下面命令**"
   ]
  },
  {
   "cell_type": "code",
   "execution_count": 3,
   "id": "a81fa031",
   "metadata": {},
   "outputs": [],
   "source": [
    "# !wget https://github.com/milvus-io/milvus-docs/releases/download/v2.4.6-preview/milvus_docs_2.4.x_en.zip\n",
    "#!unzip -q milvus_docs_2.4.x_en.zip -d milvus_docs"
   ]
  },
  {
   "cell_type": "markdown",
   "id": "d1198466",
   "metadata": {},
   "source": [
    "我们从 `milvus_docs/en/faq` 文件夹加载所有 markdown 文件。对于每个文档，我们简单地使用 \"# \" 来分割文件中的内容，这样可以大致分离出 markdown 文件中每个主要部分的内容。"
   ]
  },
  {
   "cell_type": "code",
   "execution_count": 4,
   "id": "c9035a5f",
   "metadata": {},
   "outputs": [],
   "source": [
    "# from glob import glob\n",
    "\n",
    "# text_lines = []\n",
    "\n",
    "# for file_path in glob(\"mfd.md\", recursive=True):\n",
    "#     with open(file_path, \"r\") as file:\n",
    "#         file_text = file.read()\n",
    "\n",
    "#     text_lines += file_text.split(\"# \")"
   ]
  },
  {
   "cell_type": "code",
   "execution_count": 5,
   "id": "76216f25-57a4-46ff-9dc9-110dd6446cd1",
   "metadata": {},
   "outputs": [],
   "source": [
    "from glob import glob\n",
    "import re\n",
    "\n",
    "def smart_chunk_text(text, min_length=100, max_length=1000, overlap=50):\n",
    "    \"\"\"\n",
    "    智能文本切分函数\n",
    "    \n",
    "    Args:\n",
    "        text: 输入文本\n",
    "        min_length: 最小块长度\n",
    "        max_length: 最大块长度  \n",
    "        overlap: 重叠长度\n",
    "    \n",
    "    Returns:\n",
    "        list: 切分后的文本块列表\n",
    "    \"\"\"\n",
    "    chunks = []\n",
    "    \n",
    "    # 首先按照原有逻辑用 \"# \" 分割\n",
    "    sections = text.split(\"# \")\n",
    "    \n",
    "    for section in sections:\n",
    "        section = section.strip()\n",
    "        if not section:\n",
    "            continue\n",
    "            \n",
    "        # 如果段落长度合适，直接使用\n",
    "        if min_length <= len(section) <= max_length:\n",
    "            chunks.append(section)\n",
    "        # 如果段落太短，尝试与下一段合并（这里简化处理）\n",
    "        elif len(section) < min_length:\n",
    "            if section:  # 确保不是空字符串\n",
    "                chunks.append(section)\n",
    "        # 如果段落太长，进一步切分\n",
    "        else:\n",
    "            # 按段落分割（两个换行符）\n",
    "            paragraphs = re.split(r'\\n\\s*\\n', section)\n",
    "            current_chunk = \"\"\n",
    "            \n",
    "            for para in paragraphs:\n",
    "                para = para.strip()\n",
    "                if not para:\n",
    "                    continue\n",
    "                    \n",
    "                # 如果加上当前段落不会超过最大长度\n",
    "                if len(current_chunk) + len(para) + 2 <= max_length:\n",
    "                    if current_chunk:\n",
    "                        current_chunk += \"\\n\\n\" + para\n",
    "                    else:\n",
    "                        current_chunk = para\n",
    "                else:\n",
    "                    # 保存当前块（如果不为空且长度足够）\n",
    "                    if current_chunk and len(current_chunk.strip()) >= min_length:\n",
    "                        chunks.append(current_chunk.strip())\n",
    "                    \n",
    "                    # 如果单个段落就超过最大长度，按句子分割\n",
    "                    if len(para) > max_length:\n",
    "                        sentences = re.split(r'[。！？.!?]', para)\n",
    "                        temp_chunk = \"\"\n",
    "                        \n",
    "                        for sentence in sentences:\n",
    "                            sentence = sentence.strip()\n",
    "                            if not sentence:\n",
    "                                continue\n",
    "                                \n",
    "                            if len(temp_chunk) + len(sentence) + 1 <= max_length:\n",
    "                                if temp_chunk:\n",
    "                                    temp_chunk += \"。\" + sentence\n",
    "                                else:\n",
    "                                    temp_chunk = sentence\n",
    "                            else:\n",
    "                                if temp_chunk and len(temp_chunk.strip()) >= min_length:\n",
    "                                    chunks.append(temp_chunk.strip())\n",
    "                                temp_chunk = sentence\n",
    "                        \n",
    "                        if temp_chunk and len(temp_chunk.strip()) >= min_length:\n",
    "                            chunks.append(temp_chunk.strip())\n",
    "                        current_chunk = \"\"\n",
    "                    else:\n",
    "                        current_chunk = para\n",
    "            \n",
    "            # 保存最后一个块\n",
    "            if current_chunk and len(current_chunk.strip()) >= min_length:\n",
    "                chunks.append(current_chunk.strip())\n",
    "    \n",
    "    return chunks\n",
    "\n",
    "text_lines = []\n",
    "\n",
    "# for file_path in glob(\"milvus_docs/en/faq/*.md\", recursive=True):\n",
    "for file_path in glob(\"mfd.md\", recursive=True):\n",
    "    with open(file_path, \"r\") as file:\n",
    "        file_text = file.read()\n",
    "\n",
    "    # 使用智能切分函数\n",
    "    text_lines += smart_chunk_text(file_text, min_length=100, max_length=800, overlap=50)"
   ]
  },
  {
   "cell_type": "code",
   "execution_count": 6,
   "id": "0e553ef1-5197-4d41-a7b5-6903bfbfa37d",
   "metadata": {},
   "outputs": [
    {
     "name": "stdout",
     "output_type": "stream",
     "text": [
      "Length of each text chunk:\n",
      "Chunk 0: 1 characters\n",
      "Chunk 1: 14 characters\n",
      "Chunk 2: 11 characters\n",
      "Chunk 3: 766 characters\n",
      "Chunk 4: 751 characters\n",
      "Chunk 5: 773 characters\n",
      "Chunk 6: 701 characters\n",
      "Chunk 7: 301 characters\n",
      "Chunk 8: 13 characters\n",
      "Chunk 9: 743 characters\n",
      "Chunk 10: 736 characters\n",
      "Chunk 11: 753 characters\n",
      "Chunk 12: 775 characters\n",
      "Chunk 13: 766 characters\n",
      "Chunk 14: 778 characters\n",
      "Chunk 15: 170 characters\n",
      "Chunk 16: 791 characters\n",
      "Chunk 17: 553 characters\n",
      "Chunk 18: 767 characters\n",
      "Chunk 19: 630 characters\n",
      "Chunk 20: 304 characters\n",
      "Chunk 21: 14 characters\n",
      "Chunk 22: 286 characters\n",
      "Chunk 23: 640 characters\n",
      "Chunk 24: 746 characters\n",
      "Chunk 25: 339 characters\n",
      "Chunk 26: 362 characters\n",
      "Chunk 27: 758 characters\n",
      "Chunk 28: 14 characters\n",
      "Chunk 29: 498 characters\n",
      "Chunk 30: 759 characters\n",
      "Chunk 31: 785 characters\n",
      "Chunk 32: 682 characters\n",
      "Chunk 33: 13 characters\n",
      "Chunk 34: 762 characters\n",
      "Chunk 35: 372 characters\n",
      "Chunk 36: 643 characters\n",
      "Chunk 37: 780 characters\n",
      "Chunk 38: 597 characters\n",
      "Chunk 39: 11 characters\n",
      "Chunk 40: 759 characters\n",
      "Chunk 41: 764 characters\n",
      "Chunk 42: 787 characters\n",
      "Chunk 43: 767 characters\n",
      "Chunk 44: 517 characters\n",
      "Chunk 45: 770 characters\n",
      "Chunk 46: 700 characters\n",
      "Chunk 47: 659 characters\n",
      "Chunk 48: 534 characters\n",
      "Chunk 49: 777 characters\n",
      "Chunk 50: 337 characters\n",
      "Chunk 51: 746 characters\n",
      "Chunk 52: 739 characters\n"
     ]
    }
   ],
   "source": [
    "# Print the length of each chunk\n",
    "print(\"Length of each text chunk:\")\n",
    "for i, chunk in enumerate(text_lines):\n",
    "    print(f\"Chunk {i}: {len(chunk)} characters\") "
   ]
  },
  {
   "cell_type": "code",
   "execution_count": 7,
   "id": "01b73e74-ee7d-4daf-b7db-1c7a10bfc0bf",
   "metadata": {},
   "outputs": [
    {
     "data": {
      "text/plain": [
       "53"
      ]
     },
     "execution_count": 7,
     "metadata": {},
     "output_type": "execute_result"
    }
   ],
   "source": [
    "len(text_lines)"
   ]
  },
  {
   "cell_type": "code",
   "execution_count": 8,
   "id": "43d08626-ae54-43bb-8642-fea7997b9619",
   "metadata": {},
   "outputs": [
    {
     "name": "stdout",
     "output_type": "stream",
     "text": [
      "**第二百一十四条** 不动产物权的设立、变更、转让和消灭，依照法律规定应当登记的，自记载于不动产登记簿时发生效力。\n",
      "\n",
      "**第二百一十五条** 不动产登记簿由登记机构管理。\n",
      "不动产登记簿应当采用纸质形式或者电子形式。\n",
      "不动产登记簿采用电子形式的，应当备份。\n",
      "\n",
      "**第二百一十六条** 不动产登记簿是物权归属和内容的根据。\n",
      "不动产登记簿记载的事项与不动产权属证书记载的事项不一致的，除有证据证明不动产登记簿确有错误外，以不动产登记簿为准。\n",
      "\n",
      "**第二百一十七条** 不动产权属证书是权利人享有该不动产物权的证明。不动产权属证书记载的事项，应当与不动产登记簿一致；不一致的，除有证据证明不动产登记簿确有错误外，以不动产登记簿为准。\n",
      "\n",
      "**第二百一十八条** 权利人、利害关系人可以申请查询、复制不动产登记资料，登记机构应当提供。\n",
      "\n",
      "**第二百一十九条** 利害关系人可以申请查询不动产登记资料。申请查询的，登记机构应当提供。\n",
      "\n",
      "**第二百二十条** 权利人、利害关系人认为不动产登记簿记载的事项错误的，可以申请更正登记。不动产登记簿记载的权利人书面同意或者有证据证明登记确有错误的，登记机构应当予以更正。\n",
      "不动产登记簿记载的权利人不同意更正的，利害关系人可以申请异议登记。登记机构予以异议登记的，申请人在异议登记之日起十五日内不提起诉讼的，异议登记失效。异议登记不当，造成权利人损害的，权利人可以请求损害赔偿。\n",
      "\n",
      "**第二百二十一条** 当事人签订买卖房屋的协议或者签订其他不动产物权的协议，为保障将来实现物权，可以依照约定向登记机构申请预告登记。预告登记后，未经预告登记的权利人同意，处分该不动产的，不发生物权效力。\n",
      "预告登记后，债权消灭或者自能够进行不动产登记之日起九十日内未申请登记的，预告登记失效。\n"
     ]
    }
   ],
   "source": [
    "print(text_lines[4])"
   ]
  },
  {
   "cell_type": "markdown",
   "id": "4cc2a0b8",
   "metadata": {},
   "source": [
    "### 准备 LLM 和 Embedding 模型"
   ]
  },
  {
   "cell_type": "markdown",
   "id": "19eaff7a",
   "metadata": {},
   "source": [
    "DeepSeek 支持 OpenAI 风格的 API，您可以使用相同的 API 进行微小调整来调用 LLM。"
   ]
  },
  {
   "cell_type": "code",
   "execution_count": 9,
   "id": "b994eb47",
   "metadata": {},
   "outputs": [],
   "source": [
    "from openai import OpenAI\n",
    "\n",
    "deepseek_client = OpenAI(\n",
    "    api_key=api_key,\n",
    "    base_url=\"https://api.deepseek.com/v1\",  # DeepSeek API 的基地址\n",
    ")"
   ]
  },
  {
   "cell_type": "markdown",
   "id": "1cc5a5e2",
   "metadata": {},
   "source": [
    "定义一个 embedding 模型，使用 `milvus_model` 来生成文本嵌入。我们以 `DefaultEmbeddingFunction` 模型为例，这是一个预训练的轻量级嵌入模型。"
   ]
  },
  {
   "cell_type": "code",
   "execution_count": 10,
   "id": "3a94242a",
   "metadata": {},
   "outputs": [
    {
     "name": "stderr",
     "output_type": "stream",
     "text": [
      "/Users/cyberpaws/development/miniconda3/envs/deepseek/lib/python3.13/site-packages/tqdm/auto.py:21: TqdmWarning: IProgress not found. Please update jupyter and ipywidgets. See https://ipywidgets.readthedocs.io/en/stable/user_install.html\n",
      "  from .autonotebook import tqdm as notebook_tqdm\n"
     ]
    }
   ],
   "source": [
    "from pymilvus import model as milvus_model\n",
    "\n",
    "embedding_model = milvus_model.DefaultEmbeddingFunction()"
   ]
  },
  {
   "cell_type": "markdown",
   "id": "93fb1696",
   "metadata": {},
   "source": [
    "生成一个测试嵌入并打印其维度和前几个元素。"
   ]
  },
  {
   "cell_type": "code",
   "execution_count": 11,
   "id": "88a27567",
   "metadata": {},
   "outputs": [
    {
     "name": "stdout",
     "output_type": "stream",
     "text": [
      "768\n",
      "[-0.04836056  0.07163018 -0.01130064 -0.03789344 -0.03320646 -0.01318444\n",
      " -0.03041711 -0.02269505 -0.02317867 -0.00426023]\n"
     ]
    }
   ],
   "source": [
    "test_embedding = embedding_model.encode_queries([\"This is a test\"])[0]\n",
    "embedding_dim = len(test_embedding)\n",
    "print(embedding_dim)\n",
    "print(test_embedding[:10])"
   ]
  },
  {
   "cell_type": "code",
   "execution_count": 12,
   "id": "f7683f3a-d9e4-4c8e-9a66-c341911bef6b",
   "metadata": {},
   "outputs": [
    {
     "name": "stdout",
     "output_type": "stream",
     "text": [
      "[-0.0275297   0.06088526  0.00388529 -0.00215193 -0.02774976 -0.01186187\n",
      " -0.04020914 -0.06023425 -0.03813157  0.01002724]\n"
     ]
    }
   ],
   "source": [
    "test_embedding_0 = embedding_model.encode_queries([\"That is a test\"])[0]\n",
    "print(test_embedding_0[:10])"
   ]
  },
  {
   "cell_type": "markdown",
   "id": "5a778887",
   "metadata": {},
   "source": [
    "## 将数据加载到 Milvus"
   ]
  },
  {
   "cell_type": "markdown",
   "id": "02b23a24",
   "metadata": {},
   "source": [
    "### 创建 Collection"
   ]
  },
  {
   "cell_type": "code",
   "execution_count": 13,
   "id": "95e84b8c",
   "metadata": {},
   "outputs": [
    {
     "name": "stderr",
     "output_type": "stream",
     "text": [
      "huggingface/tokenizers: The current process just got forked, after parallelism has already been used. Disabling parallelism to avoid deadlocks...\n",
      "To disable this warning, you can either:\n",
      "\t- Avoid using `tokenizers` before the fork if possible\n",
      "\t- Explicitly set the environment variable TOKENIZERS_PARALLELISM=(true | false)\n"
     ]
    }
   ],
   "source": [
    "from pymilvus import MilvusClient\n",
    "\n",
    "milvus_client = MilvusClient(uri=\"./milvus_demo.db\")\n",
    "\n",
    "collection_name = \"my_rag_collection\""
   ]
  },
  {
   "cell_type": "markdown",
   "id": "68648561",
   "metadata": {},
   "source": [
    "关于 `MilvusClient` 的参数：\n",
    "\n",
    "*   将 `uri` 设置为本地文件，例如 `./milvus.db`，是最方便的方法，因为它会自动利用 Milvus Lite 将所有数据存储在此文件中。\n",
    "*   如果您有大规模数据，可以在 Docker 或 Kubernetes 上设置性能更高的 Milvus 服务器。在此设置中，请使用服务器 URI，例如 `http://localhost:19530`，作为您的 `uri`。\n",
    "*   如果您想使用 Zilliz Cloud（Milvus 的完全托管云服务），请调整 `uri` 和 `token`，它们对应 Zilliz Cloud 中的 Public Endpoint 和 Api key。"
   ]
  },
  {
   "cell_type": "markdown",
   "id": "5ce1bf3e",
   "metadata": {},
   "source": [
    "检查 collection 是否已存在，如果存在则删除它。"
   ]
  },
  {
   "cell_type": "code",
   "execution_count": 14,
   "id": "aee85c08",
   "metadata": {},
   "outputs": [],
   "source": [
    "if milvus_client.has_collection(collection_name):\n",
    "    milvus_client.drop_collection(collection_name)"
   ]
  },
  {
   "cell_type": "markdown",
   "id": "73eb379f",
   "metadata": {},
   "source": [
    "创建一个具有指定参数的新 collection。\n",
    "\n",
    "如果我们不指定任何字段信息，Milvus 将自动创建一个默认的 `id` 字段作为主键，以及一个 `vector` 字段来存储向量数据。一个保留的 JSON 字段用于存储非 schema 定义的字段及其值。\n",
    "\n",
    "`metric_type` (距离度量类型):\n",
    "     作用：定义如何计算向量之间的相似程度。\n",
    "     例如：`IP` (内积) - 值越大通常越相似；`L2` (欧氏距离) - 值越小越相似；`COSINE` (余弦相似度) - 通常转换为距离，值越小越相似。\n",
    "     选择依据：根据你的嵌入模型的特性和期望的相似性定义来选择。\n",
    "\n",
    " `consistency_level` (一致性级别):\n",
    "     作用：定义数据写入后，读取操作能多快看到这些新数据。\n",
    "     例如：\n",
    "         `Strong` (强一致性): 总是读到最新数据，可能稍慢。\n",
    "         `Bounded` (有界过期): 可能读到几秒内旧数据，性能较好 (默认)。\n",
    "         `Session` (会话一致性): 自己写入的自己能立刻读到。\n",
    "         `Eventually` (最终一致性): 最终会读到新数据，但没时间保证，性能最好。\n",
    "     选择依据：在数据实时性要求和系统性能之间做权衡。\n",
    "\n",
    "简单来说：\n",
    " `metric_type`：怎么算相似。\n",
    " `consistency_level`：新数据多久能被读到。"
   ]
  },
  {
   "cell_type": "code",
   "execution_count": 15,
   "id": "bd0b2df8",
   "metadata": {},
   "outputs": [],
   "source": [
    "milvus_client.create_collection(\n",
    "    collection_name=collection_name,\n",
    "    dimension=embedding_dim,\n",
    "    metric_type=\"IP\",  # 内积距离\n",
    "    consistency_level=\"Strong\",  # 支持的值为 (`\"Strong\"`, `\"Session\"`, `\"Bounded\"`, `\"Eventually\"`)。更多详情请参见 https://milvus.io/docs/consistency.md#Consistency-Level。\n",
    ")"
   ]
  },
  {
   "cell_type": "markdown",
   "id": "9c15bafb",
   "metadata": {},
   "source": [
    "### 插入数据"
   ]
  },
  {
   "cell_type": "markdown",
   "id": "171d3b35",
   "metadata": {},
   "source": [
    "遍历文本行，创建嵌入，然后将数据插入 Milvus。\n",
    "\n",
    "这里有一个新字段 `text`，它是在 collection schema 中未定义的字段。它将自动添加到保留的 JSON 动态字段中，该字段在高级别上可以被视为普通字段。"
   ]
  },
  {
   "cell_type": "code",
   "execution_count": 16,
   "id": "ad077094",
   "metadata": {},
   "outputs": [
    {
     "name": "stderr",
     "output_type": "stream",
     "text": [
      "huggingface/tokenizers: The current process just got forked, after parallelism has already been used. Disabling parallelism to avoid deadlocks...\n",
      "To disable this warning, you can either:\n",
      "\t- Avoid using `tokenizers` before the fork if possible\n",
      "\t- Explicitly set the environment variable TOKENIZERS_PARALLELISM=(true | false)\n",
      "Creating embeddings: 100%|██████████| 53/53 [00:00<00:00, 499546.32it/s]\n"
     ]
    },
    {
     "data": {
      "text/plain": [
       "{'insert_count': 53, 'ids': [0, 1, 2, 3, 4, 5, 6, 7, 8, 9, 10, 11, 12, 13, 14, 15, 16, 17, 18, 19, 20, 21, 22, 23, 24, 25, 26, 27, 28, 29, 30, 31, 32, 33, 34, 35, 36, 37, 38, 39, 40, 41, 42, 43, 44, 45, 46, 47, 48, 49, 50, 51, 52], 'cost': 0}"
      ]
     },
     "execution_count": 16,
     "metadata": {},
     "output_type": "execute_result"
    }
   ],
   "source": [
    "from tqdm import tqdm\n",
    "\n",
    "data = []\n",
    "\n",
    "doc_embeddings = embedding_model.encode_documents(text_lines)\n",
    "\n",
    "for i, line in enumerate(tqdm(text_lines, desc=\"Creating embeddings\")):\n",
    "    data.append({\"id\": i, \"vector\": doc_embeddings[i], \"text\": line})\n",
    "\n",
    "milvus_client.insert(collection_name=collection_name, data=data)"
   ]
  },
  {
   "cell_type": "markdown",
   "id": "bd971f6b",
   "metadata": {},
   "source": [
    "## 构建 RAG"
   ]
  },
  {
   "cell_type": "markdown",
   "id": "534dc076",
   "metadata": {},
   "source": [
    "### 检索查询数据"
   ]
  },
  {
   "cell_type": "markdown",
   "id": "5a6fd7e7",
   "metadata": {},
   "source": [
    "我们指定一个关于 Milvus 的常见问题。"
   ]
  },
  {
   "cell_type": "code",
   "execution_count": 17,
   "id": "6e2f5c6a",
   "metadata": {},
   "outputs": [],
   "source": [
    "question = \"欠债必须还钱吗?不还怎样？\""
   ]
  },
  {
   "cell_type": "markdown",
   "id": "52401a38",
   "metadata": {},
   "source": [
    "在 collection 中搜索该问题，并检索语义上最匹配的前3个结果。"
   ]
  },
  {
   "cell_type": "code",
   "execution_count": 18,
   "id": "0dd4cbac",
   "metadata": {},
   "outputs": [],
   "source": [
    "search_res = milvus_client.search(\n",
    "    collection_name=collection_name,\n",
    "    data=embedding_model.encode_queries(\n",
    "        [question]\n",
    "    ),  # 将问题转换为嵌入向量\n",
    "    limit=3,  # 返回前3个结果\n",
    "    search_params={\"metric_type\": \"IP\", \"params\": {}},  # 内积距离\n",
    "    output_fields=[\"text\"],  # 返回 text 字段\n",
    ")"
   ]
  },
  {
   "cell_type": "markdown",
   "id": "ffcce135",
   "metadata": {},
   "source": [
    "让我们看一下查询的搜索结果"
   ]
  },
  {
   "cell_type": "code",
   "execution_count": 19,
   "id": "6a7f6eb3",
   "metadata": {},
   "outputs": [
    {
     "name": "stdout",
     "output_type": "stream",
     "text": [
      "[\n",
      "    [\n",
      "        \"\\u4e8c\\u3001\\u6743\\u5229\\u8d28\\u6743\\n\\n**\\u7b2c\\u56db\\u767e\\u56db\\u5341\\u4e5d\\u6761** \\u53ef\\u4ee5\\u51fa\\u8d28\\u7684\\u6743\\u5229\\u5305\\u62ec\\uff1a\\n\\uff08\\u4e00\\uff09\\u6c47\\u7968\\u3001\\u672c\\u7968\\u3001\\u652f\\u7968\\uff1b\\n\\uff08\\u4e8c\\uff09\\u503a\\u5238\\u3001\\u5b58\\u6b3e\\u5355\\uff1b\\n\\uff08\\u4e09\\uff09\\u4ed3\\u5355\\u3001\\u63d0\\u5355\\uff1b\\n\\uff08\\u56db\\uff09\\u53ef\\u4ee5\\u8f6c\\u8ba9\\u7684\\u57fa\\u91d1\\u4efd\\u989d\\u3001\\u80a1\\u6743\\uff1b\\n\\uff08\\u4e94\\uff09\\u53ef\\u4ee5\\u8f6c\\u8ba9\\u7684\\u6ce8\\u518c\\u5546\\u6807\\u4e13\\u7528\\u6743\\u3001\\u4e13\\u5229\\u6743\\u3001\\u8457\\u4f5c\\u6743\\u7b49\\u77e5\\u8bc6\\u4ea7\\u6743\\u4e2d\\u7684\\u8d22\\u4ea7\\u6743\\uff1b\\n\\uff08\\u516d\\uff09\\u5e94\\u6536\\u8d26\\u6b3e\\uff1b\\n\\uff08\\u4e03\\uff09\\u6cd5\\u5f8b\\u3001\\u884c\\u653f\\u6cd5\\u89c4\\u89c4\\u5b9a\\u53ef\\u4ee5\\u51fa\\u8d28\\u7684\\u5176\\u4ed6\\u8d22\\u4ea7\\u6743\\u5229\\u3002\\n\\n**\\u7b2c\\u56db\\u767e\\u4e94\\u5341\\u6761** \\u4ee5\\u6c47\\u7968\\u3001\\u672c\\u7968\\u3001\\u652f\\u7968\\u3001\\u503a\\u5238\\u3001\\u5b58\\u6b3e\\u5355\\u3001\\u4ed3\\u5355\\u3001\\u63d0\\u5355\\u51fa\\u8d28\\u7684\\uff0c\\u5f53\\u4e8b\\u4eba\\u5e94\\u5f53\\u8ba2\\u7acb\\u4e66\\u9762\\u5408\\u540c\\u3002\\u8d28\\u6743\\u81ea\\u6743\\u5229\\u51ed\\u8bc1\\u4ea4\\u4ed8\\u4e4b\\u65e5\\u8d77\\u8bbe\\u7acb\\u3002\\n\\n**\\u7b2c\\u56db\\u767e\\u4e94\\u5341\\u4e00\\u6761** \\u4ee5\\u8bb0\\u540d\\u80a1\\u7968\\u51fa\\u8d28\\u7684\\uff0c\\u5f53\\u4e8b\\u4eba\\u5e94\\u5f53\\u8ba2\\u7acb\\u4e66\\u9762\\u5408\\u540c\\u3002\\u8d28\\u6743\\u81ea\\u80a1\\u7968\\u4ea4\\u4ed8\\u4e4b\\u65e5\\u8d77\\u8bbe\\u7acb\\u3002\\n\\u4ee5\\u672a\\u4e0a\\u5e02\\u516c\\u53f8\\u80a1\\u6743\\u51fa\\u8d28\\u7684\\uff0c\\u9002\\u7528\\u516c\\u53f8\\u6cd5\\u6709\\u5173\\u80a1\\u6743\\u8f6c\\u8ba9\\u7684\\u89c4\\u5b9a\\u3002\\n\\n**\\u7b2c\\u56db\\u767e\\u4e94\\u5341\\u4e8c\\u6761** \\u4ee5\\u53ef\\u4ee5\\u8f6c\\u8ba9\\u7684\\u57fa\\u91d1\\u4efd\\u989d\\u3001\\u80a1\\u6743\\u51fa\\u8d28\\u7684\\uff0c\\u5f53\\u4e8b\\u4eba\\u5e94\\u5f53\\u8ba2\\u7acb\\u4e66\\u9762\\u5408\\u540c\\u3002\\u8d28\\u6743\\u81ea\\u57fa\\u91d1\\u4efd\\u989d\\u3001\\u80a1\\u6743\\u767b\\u8bb0\\u4e8e\\u8bc1\\u5238\\u767b\\u8bb0\\u7ed3\\u7b97\\u673a\\u6784\\u6216\\u8005\\u516c\\u53f8\\u7ae0\\u7a0b\\u8f7d\\u660e\\u7684\\u80a1\\u6743\\u767b\\u8bb0\\u7c3f\\u65f6\\u8bbe\\u7acb\\u3002\\n\\u4ee5\\u672a\\u4e0a\\u5e02\\u516c\\u53f8\\u80a1\\u6743\\u51fa\\u8d28\\u7684\\uff0c\\u9002\\u7528\\u516c\\u53f8\\u6cd5\\u6709\\u5173\\u80a1\\u6743\\u8f6c\\u8ba9\\u7684\\u89c4\\u5b9a\\u3002\\n\\n**\\u7b2c\\u56db\\u767e\\u4e94\\u5341\\u4e09\\u6761** \\u4ee5\\u53ef\\u4ee5\\u8f6c\\u8ba9\\u7684\\u6ce8\\u518c\\u5546\\u6807\\u4e13\\u7528\\u6743\\u3001\\u4e13\\u5229\\u6743\\u3001\\u8457\\u4f5c\\u6743\\u7b49\\u77e5\\u8bc6\\u4ea7\\u6743\\u4e2d\\u7684\\u8d22\\u4ea7\\u6743\\u51fa\\u8d28\\u7684\\uff0c\\u5f53\\u4e8b\\u4eba\\u5e94\\u5f53\\u8ba2\\u7acb\\u4e66\\u9762\\u5408\\u540c\\u3002\\u8d28\\u6743\\u81ea\\u6743\\u5229\\u8d28\\u62bc\\u767b\\u8bb0\\u4e8e\\u76f8\\u5173\\u90e8\\u95e8\\u65f6\\u8bbe\\u7acb\\u3002\\n\\n**\\u7b2c\\u56db\\u767e\\u4e94\\u5341\\u56db\\u6761** \\u4ee5\\u5e94\\u6536\\u8d26\\u6b3e\\u51fa\\u8d28\\u7684\\uff0c\\u5f53\\u4e8b\\u4eba\\u5e94\\u5f53\\u8ba2\\u7acb\\u4e66\\u9762\\u5408\\u540c\\u3002\\u8d28\\u6743\\u81ea\\u5e94\\u6536\\u8d26\\u6b3e\\u8d28\\u62bc\\u767b\\u8bb0\\u4e8e\\u4e2d\\u56fd\\u4eba\\u6c11\\u94f6\\u884c\\u5f81\\u4fe1\\u4e2d\\u5fc3\\u65f6\\u8bbe\\u7acb\\u3002\\n\\n**\\u7b2c\\u56db\\u767e\\u4e94\\u5341\\u4e94\\u6761** \\u4ee5\\u6cd5\\u5f8b\\u3001\\u884c\\u653f\\u6cd5\\u89c4\\u89c4\\u5b9a\\u53ef\\u4ee5\\u51fa\\u8d28\\u7684\\u5176\\u4ed6\\u8d22\\u4ea7\\u6743\\u5229\\u51fa\\u8d28\\u7684\\uff0c\\u4f9d\\u7167\\u6cd5\\u5f8b\\u3001\\u884c\\u653f\\u6cd5\\u89c4\\u7684\\u89c4\\u5b9a\\u3002\\n\\n**\\u7b2c\\u56db\\u767e\\u4e94\\u5341\\u516d\\u6761** \\u6743\\u5229\\u8d28\\u6743\\u9664\\u9002\\u7528\\u672c\\u8282\\u89c4\\u5b9a\\u5916\\uff0c\\u53c2\\u7167\\u9002\\u7528\\u672c\\u7ae0\\u52a8\\u4ea7\\u8d28\\u6743\\u7684\\u6709\\u5173\\u89c4\\u5b9a\\u3002\\n\\n####\",\n",
      "        0.5626927614212036\n",
      "    ],\n",
      "    [\n",
      "        \"\\u7b2c\\u4e00\\u7ae0 \\u4e00\\u822c\\u89c4\\u5b9a\\n\\n**\\u7b2c\\u56db\\u767e\\u516b\\u5341\\u4e00\\u6761** \\u4e3a\\u4e86\\u4fdd\\u62a4\\u5408\\u540c\\u5f53\\u4e8b\\u4eba\\u7684\\u5408\\u6cd5\\u6743\\u76ca\\uff0c\\u7ef4\\u62a4\\u793e\\u4f1a\\u7ecf\\u6d4e\\u79e9\\u5e8f\\uff0c\\u4fc3\\u8fdb\\u793e\\u4f1a\\u4e3b\\u4e49\\u73b0\\u4ee3\\u5316\\u5efa\\u8bbe\\uff0c\\u5236\\u5b9a\\u672c\\u7f16\\u3002\\n\\n**\\u7b2c\\u56db\\u767e\\u516b\\u5341\\u4e8c\\u6761** \\u672c\\u7f16\\u8c03\\u6574\\u56e0\\u5408\\u540c\\u4ea7\\u751f\\u7684\\u6c11\\u4e8b\\u5173\\u7cfb\\u3002\\n\\n**\\u7b2c\\u56db\\u767e\\u516b\\u5341\\u4e09\\u6761** \\u5408\\u540c\\u662f\\u6c11\\u4e8b\\u4e3b\\u4f53\\u4e4b\\u95f4\\u8bbe\\u7acb\\u3001\\u53d8\\u66f4\\u3001\\u7ec8\\u6b62\\u6c11\\u4e8b\\u6cd5\\u5f8b\\u5173\\u7cfb\\u7684\\u534f\\u8bae\\u3002\\n\\n**\\u7b2c\\u56db\\u767e\\u516b\\u5341\\u56db\\u6761** \\u5f53\\u4e8b\\u4eba\\u8ba2\\u7acb\\u5408\\u540c\\uff0c\\u53ef\\u4ee5\\u91c7\\u7528\\u4e66\\u9762\\u5f62\\u5f0f\\u3001\\u53e3\\u5934\\u5f62\\u5f0f\\u6216\\u8005\\u5176\\u4ed6\\u5f62\\u5f0f\\u3002\\n\\u6cd5\\u5f8b\\u3001\\u884c\\u653f\\u6cd5\\u89c4\\u89c4\\u5b9a\\u91c7\\u7528\\u4e66\\u9762\\u5f62\\u5f0f\\u7684\\uff0c\\u5e94\\u5f53\\u91c7\\u7528\\u4e66\\u9762\\u5f62\\u5f0f\\u3002\\u5f53\\u4e8b\\u4eba\\u7ea6\\u5b9a\\u91c7\\u7528\\u4e66\\u9762\\u5f62\\u5f0f\\u7684\\uff0c\\u5e94\\u5f53\\u91c7\\u7528\\u4e66\\u9762\\u5f62\\u5f0f\\u3002\\n\\n**\\u7b2c\\u56db\\u767e\\u516b\\u5341\\u4e94\\u6761** \\u5f53\\u4e8b\\u4eba\\u53ef\\u4ee5\\u53c2\\u7167\\u5404\\u7c7b\\u5408\\u540c\\u7684\\u793a\\u8303\\u6587\\u672c\\u8ba2\\u7acb\\u5408\\u540c\\u3002\\n\\n**\\u7b2c\\u56db\\u767e\\u516b\\u5341\\u516d\\u6761** \\u5408\\u540c\\u5185\\u5bb9\\u7531\\u5f53\\u4e8b\\u4eba\\u7ea6\\u5b9a\\uff0c\\u4e00\\u822c\\u5305\\u62ec\\u4e0b\\u5217\\u6761\\u6b3e\\uff1a\\n\\uff08\\u4e00\\uff09\\u5f53\\u4e8b\\u4eba\\u7684\\u59d3\\u540d\\u6216\\u8005\\u540d\\u79f0\\u548c\\u4f4f\\u6240\\uff1b\\n\\uff08\\u4e8c\\uff09\\u6807\\u7684\\uff1b\\n\\uff08\\u4e09\\uff09\\u6570\\u91cf\\uff1b\\n\\uff08\\u56db\\uff09\\u8d28\\u91cf\\uff1b\\n\\uff08\\u4e94\\uff09\\u4ef7\\u6b3e\\u6216\\u8005\\u62a5\\u916c\\uff1b\\n\\uff08\\u516d\\uff09\\u5c65\\u884c\\u671f\\u9650\\u3001\\u5730\\u70b9\\u548c\\u65b9\\u5f0f\\uff1b\\n\\uff08\\u4e03\\uff09\\u8fdd\\u7ea6\\u8d23\\u4efb\\uff1b\\n\\uff08\\u516b\\uff09\\u89e3\\u51b3\\u4e89\\u8bae\\u7684\\u65b9\\u6cd5\\u3002\\n\\n**\\u7b2c\\u56db\\u767e\\u516b\\u5341\\u4e03\\u6761** \\u5408\\u540c\\u7684\\u8ba2\\u7acb\\u5305\\u62ec\\u8981\\u7ea6\\u548c\\u627f\\u8bfa\\u9636\\u6bb5\\u3002\\n\\n**\\u7b2c\\u56db\\u767e\\u516b\\u5341\\u516b\\u6761** \\u8981\\u7ea6\\u662f\\u5e0c\\u671b\\u4e0e\\u4ed6\\u4eba\\u8ba2\\u7acb\\u5408\\u540c\\u7684\\u610f\\u601d\\u8868\\u793a\\uff0c\\u8be5\\u610f\\u601d\\u8868\\u793a\\u5e94\\u5f53\\u7b26\\u5408\\u4e0b\\u5217\\u89c4\\u5b9a\\uff1a\\n\\uff08\\u4e00\\uff09\\u5185\\u5bb9\\u5177\\u4f53\\u786e\\u5b9a\\uff1b\\n\\uff08\\u4e8c\\uff09\\u8868\\u660e\\u7ecf\\u53d7\\u8981\\u7ea6\\u4eba\\u627f\\u8bfa\\uff0c\\u8981\\u7ea6\\u4eba\\u5373\\u53d7\\u8be5\\u610f\\u601d\\u8868\\u793a\\u7ea6\\u675f\\u3002\\n\\n**\\u7b2c\\u56db\\u767e\\u516b\\u5341\\u4e5d\\u6761** \\u8981\\u7ea6\\u9080\\u8bf7\\u662f\\u5e0c\\u671b\\u4ed6\\u4eba\\u5411\\u81ea\\u5df1\\u53d1\\u51fa\\u8981\\u7ea6\\u7684\\u8868\\u793a\\u3002\\u62cd\\u5356\\u516c\\u544a\\u3001\\u62db\\u6807\\u516c\\u544a\\u3001\\u62db\\u80a1\\u8bf4\\u660e\\u4e66\\u3001\\u5546\\u4e1a\\u5e7f\\u544a\\u548c\\u5bc4\\u9001\\u7684\\u4ef7\\u76ee\\u8868\\u7b49\\u4e3a\\u8981\\u7ea6\\u9080\\u8bf7\\u3002\\n\\u5546\\u4e1a\\u5e7f\\u544a\\u7684\\u5185\\u5bb9\\u7b26\\u5408\\u8981\\u7ea6\\u89c4\\u5b9a\\u7684\\uff0c\\u89c6\\u4e3a\\u8981\\u7ea6\\u3002\\n\\n**\\u7b2c\\u56db\\u767e\\u4e5d\\u5341\\u6761** \\u8981\\u7ea6\\u5230\\u8fbe\\u53d7\\u8981\\u7ea6\\u4eba\\u65f6\\u751f\\u6548\\u3002\\n\\u8981\\u7ea6\\u4eba\\u53d1\\u51fa\\u8981\\u7ea6\\u540e\\uff0c\\u53ef\\u4ee5\\u64a4\\u56de\\u8981\\u7ea6\\u3002\\u64a4\\u56de\\u8981\\u7ea6\\u7684\\u901a\\u77e5\\u5e94\\u5f53\\u5728\\u8981\\u7ea6\\u5230\\u8fbe\\u53d7\\u8981\\u7ea6\\u4eba\\u4e4b\\u524d\\u6216\\u8005\\u4e0e\\u8981\\u7ea6\\u540c\\u65f6\\u5230\\u8fbe\\u53d7\\u8981\\u7ea6\\u4eba\\u3002\\n\\n**\\u7b2c\\u56db\\u767e\\u4e5d\\u5341\\u4e00\\u6761** \\u8981\\u7ea6\\u53ef\\u4ee5\\u64a4\\u9500\\uff0c\\u4f46\\u662f\\u6709\\u4e0b\\u5217\\u60c5\\u5f62\\u4e4b\\u4e00\\u7684\\u4e0d\\u5f97\\u64a4\\u9500\\uff1a\\n\\uff08\\u4e00\\uff09\\u8981\\u7ea6\\u4eba\\u786e\\u5b9a\\u627f\\u8bfa\\u671f\\u9650\\u6216\\u8005\\u4ee5\\u5176\\u4ed6\\u5f62\\u5f0f\\u660e\\u793a\\u8981\\u7ea6\\u4e0d\\u53ef\\u64a4\\u9500\\uff1b\\n\\uff08\\u4e8c\\uff09\\u53d7\\u8981\\u7ea6\\u4eba\\u6709\\u7406\\u7531\\u8ba4\\u4e3a\\u8981\\u7ea6\\u662f\\u4e0d\\u53ef\\u64a4\\u9500\\u7684\\uff0c\\u5e76\\u5df2\\u7ecf\\u4e3a\\u5c65\\u884c\\u5408\\u540c\\u4f5c\\u4e86\\u51c6\\u5907\\u5de5\\u4f5c\\u3002\",\n",
      "        0.5382668972015381\n",
      "    ],\n",
      "    [\n",
      "        \"\\u7b2c\\u4e09\\u7ae0 \\u5408\\u540c\\u7684\\u53d8\\u66f4\\u548c\\u8f6c\\u8ba9\\n\\n**\\u7b2c\\u4e94\\u767e\\u56db\\u5341\\u516b\\u6761** \\u5f53\\u4e8b\\u4eba\\u534f\\u5546\\u4e00\\u81f4\\uff0c\\u53ef\\u4ee5\\u53d8\\u66f4\\u5408\\u540c\\u3002\\n\\n**\\u7b2c\\u4e94\\u767e\\u56db\\u5341\\u4e5d\\u6761** \\u5f53\\u4e8b\\u4eba\\u5bf9\\u5408\\u540c\\u53d8\\u66f4\\u7684\\u5185\\u5bb9\\u7ea6\\u5b9a\\u4e0d\\u660e\\u786e\\u7684\\uff0c\\u63a8\\u5b9a\\u4e3a\\u672a\\u53d8\\u66f4\\u3002\\n\\n**\\u7b2c\\u4e94\\u767e\\u4e94\\u5341\\u6761** \\u503a\\u6743\\u4eba\\u53ef\\u4ee5\\u5c06\\u5408\\u540c\\u7684\\u6743\\u5229\\u5168\\u90e8\\u6216\\u8005\\u90e8\\u5206\\u8f6c\\u8ba9\\u7ed9\\u7b2c\\u4e09\\u4eba\\uff0c\\u4f46\\u662f\\u6709\\u4e0b\\u5217\\u60c5\\u5f62\\u4e4b\\u4e00\\u7684\\u9664\\u5916\\uff1a\\n\\uff08\\u4e00\\uff09\\u6839\\u636e\\u5408\\u540c\\u6027\\u8d28\\u4e0d\\u5f97\\u8f6c\\u8ba9\\uff1b\\n\\uff08\\u4e8c\\uff09\\u6309\\u7167\\u5f53\\u4e8b\\u4eba\\u7ea6\\u5b9a\\u4e0d\\u5f97\\u8f6c\\u8ba9\\uff1b\\n\\uff08\\u4e09\\uff09\\u4f9d\\u7167\\u6cd5\\u5f8b\\u89c4\\u5b9a\\u4e0d\\u5f97\\u8f6c\\u8ba9\\u3002\\n\\u503a\\u6743\\u4eba\\u8f6c\\u8ba9\\u6743\\u5229\\u7684\\uff0c\\u5e94\\u5f53\\u901a\\u77e5\\u503a\\u52a1\\u4eba\\u3002\\u672a\\u7ecf\\u901a\\u77e5\\uff0c\\u8be5\\u8f6c\\u8ba9\\u5bf9\\u503a\\u52a1\\u4eba\\u4e0d\\u53d1\\u751f\\u6548\\u529b\\u3002\\n\\n**\\u7b2c\\u4e94\\u767e\\u4e94\\u5341\\u4e00\\u6761** \\u503a\\u6743\\u4eba\\u8f6c\\u8ba9\\u6743\\u5229\\u7684\\uff0c\\u53d7\\u8ba9\\u4eba\\u53d6\\u5f97\\u4e0e\\u503a\\u6743\\u6709\\u5173\\u7684\\u4ece\\u6743\\u5229\\uff0c\\u4f46\\u662f\\u8be5\\u4ece\\u6743\\u5229\\u4e13\\u5c5e\\u4e8e\\u503a\\u6743\\u4eba\\u81ea\\u8eab\\u7684\\u9664\\u5916\\u3002\\n\\n**\\u7b2c\\u4e94\\u767e\\u4e94\\u5341\\u4e8c\\u6761** \\u503a\\u52a1\\u4eba\\u5c06\\u5408\\u540c\\u7684\\u4e49\\u52a1\\u5168\\u90e8\\u6216\\u8005\\u90e8\\u5206\\u8f6c\\u8ba9\\u7ed9\\u7b2c\\u4e09\\u4eba\\u7684\\uff0c\\u5e94\\u5f53\\u7ecf\\u503a\\u6743\\u4eba\\u540c\\u610f\\u3002\\n\\n**\\u7b2c\\u4e94\\u767e\\u4e94\\u5341\\u4e09\\u6761** \\u503a\\u52a1\\u4eba\\u8f6c\\u8ba9\\u4e49\\u52a1\\u7684\\uff0c\\u65b0\\u503a\\u52a1\\u4eba\\u53ef\\u4ee5\\u4e3b\\u5f20\\u539f\\u503a\\u52a1\\u4eba\\u5bf9\\u503a\\u6743\\u4eba\\u7684\\u6297\\u8fa9\\u3002\\n\\u65b0\\u503a\\u52a1\\u4eba\\u627f\\u62c5\\u503a\\u52a1\\u7684\\uff0c\\u5e94\\u5f53\\u627f\\u62c5\\u4e0e\\u4e3b\\u503a\\u52a1\\u6709\\u5173\\u7684\\u4ece\\u503a\\u52a1\\uff0c\\u4f46\\u662f\\u8be5\\u4ece\\u503a\\u52a1\\u4e13\\u5c5e\\u4e8e\\u539f\\u503a\\u52a1\\u4eba\\u81ea\\u8eab\\u7684\\u9664\\u5916\\u3002\\n\\n**\\u7b2c\\u4e94\\u767e\\u4e94\\u5341\\u56db\\u6761** \\u5f53\\u4e8b\\u4eba\\u4e00\\u65b9\\u7ecf\\u5bf9\\u65b9\\u540c\\u610f\\uff0c\\u53ef\\u4ee5\\u5c06\\u81ea\\u5df1\\u5728\\u5408\\u540c\\u4e2d\\u7684\\u6743\\u5229\\u548c\\u4e49\\u52a1\\u4e00\\u5e76\\u8f6c\\u8ba9\\u7ed9\\u7b2c\\u4e09\\u4eba\\u3002\\n\\n**\\u7b2c\\u4e94\\u767e\\u4e94\\u5341\\u4e94\\u6761** \\u6743\\u5229\\u548c\\u4e49\\u52a1\\u4e00\\u5e76\\u8f6c\\u8ba9\\u7684\\uff0c\\u9002\\u7528\\u503a\\u6743\\u8f6c\\u8ba9\\u3001\\u503a\\u52a1\\u8f6c\\u8ba9\\u7684\\u6709\\u5173\\u89c4\\u5b9a\\u3002\\n\\n**\\u7b2c\\u4e94\\u767e\\u4e94\\u5341\\u516d\\u6761** \\u5408\\u540c\\u53d8\\u66f4\\u7684\\uff0c\\u4e0d\\u5f71\\u54cd\\u5f53\\u4e8b\\u4eba\\u8bf7\\u6c42\\u635f\\u5bb3\\u8d54\\u507f\\u7684\\u6743\\u5229\\u3002\\n\\n###\",\n",
      "        0.5366312265396118\n",
      "    ]\n",
      "]\n"
     ]
    }
   ],
   "source": [
    "import json\n",
    "\n",
    "retrieved_lines_with_distances = [\n",
    "    (res[\"entity\"][\"text\"], res[\"distance\"]) for res in search_res[0]\n",
    "]\n",
    "print(json.dumps(retrieved_lines_with_distances, indent=4))"
   ]
  },
  {
   "cell_type": "markdown",
   "id": "ccd4c186",
   "metadata": {},
   "source": [
    "### 使用 LLM 获取 RAG 响应"
   ]
  },
  {
   "cell_type": "markdown",
   "id": "4cd1ae3a",
   "metadata": {},
   "source": [
    "将检索到的文档转换为字符串格式。"
   ]
  },
  {
   "cell_type": "code",
   "execution_count": 20,
   "id": "0676448f",
   "metadata": {},
   "outputs": [],
   "source": [
    "context = \"\\n\".join(\n",
    "    [line_with_distance[0] for line_with_distance in retrieved_lines_with_distances]\n",
    ")"
   ]
  },
  {
   "cell_type": "code",
   "execution_count": 21,
   "id": "107df42a-b3f7-48a8-b66b-fc82fe3ec174",
   "metadata": {},
   "outputs": [
    {
     "data": {
      "text/plain": [
       "'二、权利质权\\n\\n**第四百四十九条** 可以出质的权利包括：\\n（一）汇票、本票、支票；\\n（二）债券、存款单；\\n（三）仓单、提单；\\n（四）可以转让的基金份额、股权；\\n（五）可以转让的注册商标专用权、专利权、著作权等知识产权中的财产权；\\n（六）应收账款；\\n（七）法律、行政法规规定可以出质的其他财产权利。\\n\\n**第四百五十条** 以汇票、本票、支票、债券、存款单、仓单、提单出质的，当事人应当订立书面合同。质权自权利凭证交付之日起设立。\\n\\n**第四百五十一条** 以记名股票出质的，当事人应当订立书面合同。质权自股票交付之日起设立。\\n以未上市公司股权出质的，适用公司法有关股权转让的规定。\\n\\n**第四百五十二条** 以可以转让的基金份额、股权出质的，当事人应当订立书面合同。质权自基金份额、股权登记于证券登记结算机构或者公司章程载明的股权登记簿时设立。\\n以未上市公司股权出质的，适用公司法有关股权转让的规定。\\n\\n**第四百五十三条** 以可以转让的注册商标专用权、专利权、著作权等知识产权中的财产权出质的，当事人应当订立书面合同。质权自权利质押登记于相关部门时设立。\\n\\n**第四百五十四条** 以应收账款出质的，当事人应当订立书面合同。质权自应收账款质押登记于中国人民银行征信中心时设立。\\n\\n**第四百五十五条** 以法律、行政法规规定可以出质的其他财产权利出质的，依照法律、行政法规的规定。\\n\\n**第四百五十六条** 权利质权除适用本节规定外，参照适用本章动产质权的有关规定。\\n\\n####\\n第一章 一般规定\\n\\n**第四百八十一条** 为了保护合同当事人的合法权益，维护社会经济秩序，促进社会主义现代化建设，制定本编。\\n\\n**第四百八十二条** 本编调整因合同产生的民事关系。\\n\\n**第四百八十三条** 合同是民事主体之间设立、变更、终止民事法律关系的协议。\\n\\n**第四百八十四条** 当事人订立合同，可以采用书面形式、口头形式或者其他形式。\\n法律、行政法规规定采用书面形式的，应当采用书面形式。当事人约定采用书面形式的，应当采用书面形式。\\n\\n**第四百八十五条** 当事人可以参照各类合同的示范文本订立合同。\\n\\n**第四百八十六条** 合同内容由当事人约定，一般包括下列条款：\\n（一）当事人的姓名或者名称和住所；\\n（二）标的；\\n（三）数量；\\n（四）质量；\\n（五）价款或者报酬；\\n（六）履行期限、地点和方式；\\n（七）违约责任；\\n（八）解决争议的方法。\\n\\n**第四百八十七条** 合同的订立包括要约和承诺阶段。\\n\\n**第四百八十八条** 要约是希望与他人订立合同的意思表示，该意思表示应当符合下列规定：\\n（一）内容具体确定；\\n（二）表明经受要约人承诺，要约人即受该意思表示约束。\\n\\n**第四百八十九条** 要约邀请是希望他人向自己发出要约的表示。拍卖公告、招标公告、招股说明书、商业广告和寄送的价目表等为要约邀请。\\n商业广告的内容符合要约规定的，视为要约。\\n\\n**第四百九十条** 要约到达受要约人时生效。\\n要约人发出要约后，可以撤回要约。撤回要约的通知应当在要约到达受要约人之前或者与要约同时到达受要约人。\\n\\n**第四百九十一条** 要约可以撤销，但是有下列情形之一的不得撤销：\\n（一）要约人确定承诺期限或者以其他形式明示要约不可撤销；\\n（二）受要约人有理由认为要约是不可撤销的，并已经为履行合同作了准备工作。\\n第三章 合同的变更和转让\\n\\n**第五百四十八条** 当事人协商一致，可以变更合同。\\n\\n**第五百四十九条** 当事人对合同变更的内容约定不明确的，推定为未变更。\\n\\n**第五百五十条** 债权人可以将合同的权利全部或者部分转让给第三人，但是有下列情形之一的除外：\\n（一）根据合同性质不得转让；\\n（二）按照当事人约定不得转让；\\n（三）依照法律规定不得转让。\\n债权人转让权利的，应当通知债务人。未经通知，该转让对债务人不发生效力。\\n\\n**第五百五十一条** 债权人转让权利的，受让人取得与债权有关的从权利，但是该从权利专属于债权人自身的除外。\\n\\n**第五百五十二条** 债务人将合同的义务全部或者部分转让给第三人的，应当经债权人同意。\\n\\n**第五百五十三条** 债务人转让义务的，新债务人可以主张原债务人对债权人的抗辩。\\n新债务人承担债务的，应当承担与主债务有关的从债务，但是该从债务专属于原债务人自身的除外。\\n\\n**第五百五十四条** 当事人一方经对方同意，可以将自己在合同中的权利和义务一并转让给第三人。\\n\\n**第五百五十五条** 权利和义务一并转让的，适用债权转让、债务转让的有关规定。\\n\\n**第五百五十六条** 合同变更的，不影响当事人请求损害赔偿的权利。\\n\\n###'"
      ]
     },
     "execution_count": 21,
     "metadata": {},
     "output_type": "execute_result"
    }
   ],
   "source": [
    "context"
   ]
  },
  {
   "cell_type": "code",
   "execution_count": 22,
   "id": "19998758-7f98-4cb8-8789-625fcfaad00e",
   "metadata": {},
   "outputs": [
    {
     "data": {
      "text/plain": [
       "'欠债必须还钱吗?不还怎样？'"
      ]
     },
     "execution_count": 22,
     "metadata": {},
     "output_type": "execute_result"
    }
   ],
   "source": [
    "question"
   ]
  },
  {
   "cell_type": "markdown",
   "id": "7ad25756",
   "metadata": {},
   "source": [
    "为语言模型定义系统和用户提示。此提示是使用从 Milvus 检索到的文档组装而成的。"
   ]
  },
  {
   "cell_type": "code",
   "execution_count": 23,
   "id": "b655f6f3",
   "metadata": {},
   "outputs": [],
   "source": [
    "SYSTEM_PROMPT = \"\"\"\n",
    "Human: 你是一个 AI 助手。你能够从提供的上下文段落片段中找到问题的答案。\n",
    "\"\"\"\n",
    "USER_PROMPT = f\"\"\"\n",
    "请使用以下用 <context> 标签括起来的信息片段来回答用 <question> 标签括起来的问题。最后追加原始回答的中文翻译，并用 <translated>和</translated> 标签标注。\n",
    "<context>\n",
    "{context}\n",
    "</context>\n",
    "<question>\n",
    "{question}\n",
    "</question>\n",
    "<translated>\n",
    "</translated>\n",
    "\"\"\""
   ]
  },
  {
   "cell_type": "code",
   "execution_count": 24,
   "id": "97089c31-f85c-47a9-8498-78520513bc67",
   "metadata": {},
   "outputs": [
    {
     "data": {
      "text/plain": [
       "'\\n请使用以下用 <context> 标签括起来的信息片段来回答用 <question> 标签括起来的问题。最后追加原始回答的中文翻译，并用 <translated>和</translated> 标签标注。\\n<context>\\n二、权利质权\\n\\n**第四百四十九条** 可以出质的权利包括：\\n（一）汇票、本票、支票；\\n（二）债券、存款单；\\n（三）仓单、提单；\\n（四）可以转让的基金份额、股权；\\n（五）可以转让的注册商标专用权、专利权、著作权等知识产权中的财产权；\\n（六）应收账款；\\n（七）法律、行政法规规定可以出质的其他财产权利。\\n\\n**第四百五十条** 以汇票、本票、支票、债券、存款单、仓单、提单出质的，当事人应当订立书面合同。质权自权利凭证交付之日起设立。\\n\\n**第四百五十一条** 以记名股票出质的，当事人应当订立书面合同。质权自股票交付之日起设立。\\n以未上市公司股权出质的，适用公司法有关股权转让的规定。\\n\\n**第四百五十二条** 以可以转让的基金份额、股权出质的，当事人应当订立书面合同。质权自基金份额、股权登记于证券登记结算机构或者公司章程载明的股权登记簿时设立。\\n以未上市公司股权出质的，适用公司法有关股权转让的规定。\\n\\n**第四百五十三条** 以可以转让的注册商标专用权、专利权、著作权等知识产权中的财产权出质的，当事人应当订立书面合同。质权自权利质押登记于相关部门时设立。\\n\\n**第四百五十四条** 以应收账款出质的，当事人应当订立书面合同。质权自应收账款质押登记于中国人民银行征信中心时设立。\\n\\n**第四百五十五条** 以法律、行政法规规定可以出质的其他财产权利出质的，依照法律、行政法规的规定。\\n\\n**第四百五十六条** 权利质权除适用本节规定外，参照适用本章动产质权的有关规定。\\n\\n####\\n第一章 一般规定\\n\\n**第四百八十一条** 为了保护合同当事人的合法权益，维护社会经济秩序，促进社会主义现代化建设，制定本编。\\n\\n**第四百八十二条** 本编调整因合同产生的民事关系。\\n\\n**第四百八十三条** 合同是民事主体之间设立、变更、终止民事法律关系的协议。\\n\\n**第四百八十四条** 当事人订立合同，可以采用书面形式、口头形式或者其他形式。\\n法律、行政法规规定采用书面形式的，应当采用书面形式。当事人约定采用书面形式的，应当采用书面形式。\\n\\n**第四百八十五条** 当事人可以参照各类合同的示范文本订立合同。\\n\\n**第四百八十六条** 合同内容由当事人约定，一般包括下列条款：\\n（一）当事人的姓名或者名称和住所；\\n（二）标的；\\n（三）数量；\\n（四）质量；\\n（五）价款或者报酬；\\n（六）履行期限、地点和方式；\\n（七）违约责任；\\n（八）解决争议的方法。\\n\\n**第四百八十七条** 合同的订立包括要约和承诺阶段。\\n\\n**第四百八十八条** 要约是希望与他人订立合同的意思表示，该意思表示应当符合下列规定：\\n（一）内容具体确定；\\n（二）表明经受要约人承诺，要约人即受该意思表示约束。\\n\\n**第四百八十九条** 要约邀请是希望他人向自己发出要约的表示。拍卖公告、招标公告、招股说明书、商业广告和寄送的价目表等为要约邀请。\\n商业广告的内容符合要约规定的，视为要约。\\n\\n**第四百九十条** 要约到达受要约人时生效。\\n要约人发出要约后，可以撤回要约。撤回要约的通知应当在要约到达受要约人之前或者与要约同时到达受要约人。\\n\\n**第四百九十一条** 要约可以撤销，但是有下列情形之一的不得撤销：\\n（一）要约人确定承诺期限或者以其他形式明示要约不可撤销；\\n（二）受要约人有理由认为要约是不可撤销的，并已经为履行合同作了准备工作。\\n第三章 合同的变更和转让\\n\\n**第五百四十八条** 当事人协商一致，可以变更合同。\\n\\n**第五百四十九条** 当事人对合同变更的内容约定不明确的，推定为未变更。\\n\\n**第五百五十条** 债权人可以将合同的权利全部或者部分转让给第三人，但是有下列情形之一的除外：\\n（一）根据合同性质不得转让；\\n（二）按照当事人约定不得转让；\\n（三）依照法律规定不得转让。\\n债权人转让权利的，应当通知债务人。未经通知，该转让对债务人不发生效力。\\n\\n**第五百五十一条** 债权人转让权利的，受让人取得与债权有关的从权利，但是该从权利专属于债权人自身的除外。\\n\\n**第五百五十二条** 债务人将合同的义务全部或者部分转让给第三人的，应当经债权人同意。\\n\\n**第五百五十三条** 债务人转让义务的，新债务人可以主张原债务人对债权人的抗辩。\\n新债务人承担债务的，应当承担与主债务有关的从债务，但是该从债务专属于原债务人自身的除外。\\n\\n**第五百五十四条** 当事人一方经对方同意，可以将自己在合同中的权利和义务一并转让给第三人。\\n\\n**第五百五十五条** 权利和义务一并转让的，适用债权转让、债务转让的有关规定。\\n\\n**第五百五十六条** 合同变更的，不影响当事人请求损害赔偿的权利。\\n\\n###\\n</context>\\n<question>\\n欠债必须还钱吗?不还怎样？\\n</question>\\n<translated>\\n</translated>\\n'"
      ]
     },
     "execution_count": 24,
     "metadata": {},
     "output_type": "execute_result"
    }
   ],
   "source": [
    "USER_PROMPT"
   ]
  },
  {
   "cell_type": "markdown",
   "id": "184b457f",
   "metadata": {},
   "source": [
    "使用 DeepSeek 提供的 `deepseek-chat` 模型根据提示生成响应。"
   ]
  },
  {
   "cell_type": "code",
   "execution_count": 25,
   "id": "638a7561",
   "metadata": {},
   "outputs": [
    {
     "name": "stdout",
     "output_type": "stream",
     "text": [
      "根据《中华人民共和国民法典》第五百五十条至第五百五十六条规定：\n",
      "\n",
      "1. 欠债必须还钱是基本原则，债权人有权要求债务人履行债务。\n",
      "\n",
      "2. 如果债务人不还钱：\n",
      "- 债权人可以将债权转让给第三人（除非存在不得转让的情形）\n",
      "- 债权人可以依法向法院起诉要求偿还\n",
      "- 债权人有权请求损害赔偿\n",
      "- 债务人转让债务必须经债权人同意\n",
      "- 新债务人需承担原债务及相关从债务\n",
      "\n",
      "3. 特殊情形下债务可以免除：\n",
      "- 债权人自愿免除\n",
      "- 经协商一致变更合同内容\n",
      "- 债权已过诉讼时效（但债务人自愿履行的除外）\n",
      "\n",
      "<translated>\n",
      "根据《中华人民共和国民法典》第五百五十条至第五百五十六条规定：\n",
      "\n",
      "1. 欠债还钱是基本原则，债权人有权要求债务人履行债务。\n",
      "\n",
      "2. 如果债务人不还款：\n",
      "- 债权人可依法转让债权（除法律规定不可转让情形外）\n",
      "- 债权人可向法院提起诉讼追讨\n",
      "- 债权人有权主张损害赔偿\n",
      "- 债务人转移债务需获债权人同意\n",
      "- 债务受让人需承担原债务及附属债务\n",
      "\n",
      "3. 特殊情况下可免除债务：\n",
      "- 债权人主动免除\n",
      "- 双方协商变更合同条款\n",
      "- 超过诉讼时效（但债务人自愿偿还的除外）\n",
      "</translated>\n"
     ]
    }
   ],
   "source": [
    "response = deepseek_client.chat.completions.create(\n",
    "    model=\"deepseek-chat\",\n",
    "    messages=[\n",
    "        {\"role\": \"system\", \"content\": SYSTEM_PROMPT},\n",
    "        {\"role\": \"user\", \"content\": USER_PROMPT},\n",
    "    ],\n",
    ")\n",
    "print(response.choices[0].message.content)"
   ]
  },
  {
   "cell_type": "code",
   "execution_count": null,
   "id": "50ce3b55-7daa-4727-95bd-3b00f6aa2b03",
   "metadata": {},
   "outputs": [],
   "source": []
  }
 ],
 "metadata": {
  "kernelspec": {
   "display_name": "Python 3 (ipykernel)",
   "language": "python",
   "name": "python3"
  },
  "language_info": {
   "codemirror_mode": {
    "name": "ipython",
    "version": 3
   },
   "file_extension": ".py",
   "mimetype": "text/x-python",
   "name": "python",
   "nbconvert_exporter": "python",
   "pygments_lexer": "ipython3",
   "version": "3.13.4"
  }
 },
 "nbformat": 4,
 "nbformat_minor": 5
}
